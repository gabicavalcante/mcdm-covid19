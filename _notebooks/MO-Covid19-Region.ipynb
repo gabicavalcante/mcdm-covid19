{
 "cells": [
  {
   "cell_type": "markdown",
   "metadata": {},
   "source": [
    "# Region level"
   ]
  },
  {
   "cell_type": "code",
   "execution_count": 1,
   "metadata": {
    "ExecuteTime": {
     "end_time": "2020-08-24T11:03:51.423493Z",
     "start_time": "2020-08-24T11:02:33.087954Z"
    }
   },
   "outputs": [],
   "source": [
    "#hide_input\n",
    "from mo_covid19.data import *"
   ]
  },
  {
   "cell_type": "code",
   "execution_count": 2,
   "metadata": {
    "ExecuteTime": {
     "end_time": "2020-08-24T11:04:46.584643Z",
     "start_time": "2020-08-24T11:04:45.793253Z"
    }
   },
   "outputs": [],
   "source": [
    "#hide_input\n",
    "locations_type = \"region\"\n",
    "data = collect_data(type_=locations_type)\n",
    "\n",
    "data.loc[data.locality_name == 'State of São Paulo', 'locality_name'] = \"São Paulo\"\n",
    "data.loc[data.locality_name == 'State of Amazonas', 'locality_name'] = \"Amazonas\"\n",
    "data.loc[data.locality_name == 'Lombardy', 'locality_name'] = \"Lombardia\"\n",
    "\n",
    "long_regions = data.melt(id_vars=[\"locality_name\", \"date\"], var_name=\"category\", value_name=\"value\")"
   ]
  }
 ],
 "metadata": {
  "kernelspec": {
   "display_name": "Python 3.7.4 64-bit ('venv': venv)",
   "language": "python",
   "name": "python37464bitvenvvenv19cb90cb6c9a43fea68702289906f693"
  },
  "language_info": {
   "codemirror_mode": {
    "name": "ipython",
    "version": 3
   },
   "file_extension": ".py",
   "mimetype": "text/x-python",
   "name": "python",
   "nbconvert_exporter": "python",
   "pygments_lexer": "ipython3",
   "version": "3.7.4"
  },
  "toc": {
   "base_numbering": 1,
   "nav_menu": {},
   "number_sections": true,
   "sideBar": true,
   "skip_h1_title": false,
   "title_cell": "Table of Contents",
   "title_sidebar": "Contents",
   "toc_cell": false,
   "toc_position": {},
   "toc_section_display": true,
   "toc_window_display": false
  }
 },
 "nbformat": 4,
 "nbformat_minor": 4
}
